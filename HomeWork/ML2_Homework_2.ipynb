{
 "cells": [
  {
   "cell_type": "markdown",
   "metadata": {},
   "source": [
    "# Домашнее задание"
   ]
  },
  {
   "cell_type": "markdown",
   "metadata": {},
   "source": [
    "## Практическая часть"
   ]
  },
  {
   "cell_type": "markdown",
   "metadata": {},
   "source": [
    "### Задание 1 (RandomForest vs DecisionTree)\n",
    "Поработайте с датасетом wine_data (в каждой строке этого датасета содержится информация о бутылках вина одного из трёх видов: в первой колонке - вид вина (1, 2 или 3), в колонках 1-13 - свойства вина). \n",
    "\n",
    "1) Посчитайте качество DecisionTreeClassifier и RandomForestClassifier на кросс-валидации.\n",
    "\n",
    "2*) Попробуйте уменьшить число признаков с помощью какого-либо метода отбора признаков (http://scikit-learn.org/stable/modules/feature_selection.html). Добейтесь увеличения качества RandomForestClassifier на кросс-валидации."
   ]
  },
  {
   "cell_type": "code",
   "execution_count": 1,
   "metadata": {},
   "outputs": [],
   "source": [
    "import pandas as pd"
   ]
  },
  {
   "cell_type": "code",
   "execution_count": 2,
   "metadata": {},
   "outputs": [
    {
     "name": "stdout",
     "output_type": "stream",
     "text": [
      "(178, 14)\n"
     ]
    },
    {
     "data": {
      "text/html": [
       "<div>\n",
       "<style scoped>\n",
       "    .dataframe tbody tr th:only-of-type {\n",
       "        vertical-align: middle;\n",
       "    }\n",
       "\n",
       "    .dataframe tbody tr th {\n",
       "        vertical-align: top;\n",
       "    }\n",
       "\n",
       "    .dataframe thead th {\n",
       "        text-align: right;\n",
       "    }\n",
       "</style>\n",
       "<table border=\"1\" class=\"dataframe\">\n",
       "  <thead>\n",
       "    <tr style=\"text-align: right;\">\n",
       "      <th></th>\n",
       "      <th>0</th>\n",
       "      <th>1</th>\n",
       "      <th>2</th>\n",
       "      <th>3</th>\n",
       "      <th>4</th>\n",
       "      <th>5</th>\n",
       "      <th>6</th>\n",
       "      <th>7</th>\n",
       "      <th>8</th>\n",
       "      <th>9</th>\n",
       "      <th>10</th>\n",
       "      <th>11</th>\n",
       "      <th>12</th>\n",
       "      <th>13</th>\n",
       "    </tr>\n",
       "  </thead>\n",
       "  <tbody>\n",
       "    <tr>\n",
       "      <th>0</th>\n",
       "      <td>1</td>\n",
       "      <td>14.23</td>\n",
       "      <td>1.71</td>\n",
       "      <td>2.43</td>\n",
       "      <td>15.6</td>\n",
       "      <td>127</td>\n",
       "      <td>2.80</td>\n",
       "      <td>3.06</td>\n",
       "      <td>0.28</td>\n",
       "      <td>2.29</td>\n",
       "      <td>5.64</td>\n",
       "      <td>1.04</td>\n",
       "      <td>3.92</td>\n",
       "      <td>1065</td>\n",
       "    </tr>\n",
       "    <tr>\n",
       "      <th>1</th>\n",
       "      <td>1</td>\n",
       "      <td>13.20</td>\n",
       "      <td>1.78</td>\n",
       "      <td>2.14</td>\n",
       "      <td>11.2</td>\n",
       "      <td>100</td>\n",
       "      <td>2.65</td>\n",
       "      <td>2.76</td>\n",
       "      <td>0.26</td>\n",
       "      <td>1.28</td>\n",
       "      <td>4.38</td>\n",
       "      <td>1.05</td>\n",
       "      <td>3.40</td>\n",
       "      <td>1050</td>\n",
       "    </tr>\n",
       "    <tr>\n",
       "      <th>2</th>\n",
       "      <td>1</td>\n",
       "      <td>13.16</td>\n",
       "      <td>2.36</td>\n",
       "      <td>2.67</td>\n",
       "      <td>18.6</td>\n",
       "      <td>101</td>\n",
       "      <td>2.80</td>\n",
       "      <td>3.24</td>\n",
       "      <td>0.30</td>\n",
       "      <td>2.81</td>\n",
       "      <td>5.68</td>\n",
       "      <td>1.03</td>\n",
       "      <td>3.17</td>\n",
       "      <td>1185</td>\n",
       "    </tr>\n",
       "    <tr>\n",
       "      <th>3</th>\n",
       "      <td>1</td>\n",
       "      <td>14.37</td>\n",
       "      <td>1.95</td>\n",
       "      <td>2.50</td>\n",
       "      <td>16.8</td>\n",
       "      <td>113</td>\n",
       "      <td>3.85</td>\n",
       "      <td>3.49</td>\n",
       "      <td>0.24</td>\n",
       "      <td>2.18</td>\n",
       "      <td>7.80</td>\n",
       "      <td>0.86</td>\n",
       "      <td>3.45</td>\n",
       "      <td>1480</td>\n",
       "    </tr>\n",
       "    <tr>\n",
       "      <th>4</th>\n",
       "      <td>1</td>\n",
       "      <td>13.24</td>\n",
       "      <td>2.59</td>\n",
       "      <td>2.87</td>\n",
       "      <td>21.0</td>\n",
       "      <td>118</td>\n",
       "      <td>2.80</td>\n",
       "      <td>2.69</td>\n",
       "      <td>0.39</td>\n",
       "      <td>1.82</td>\n",
       "      <td>4.32</td>\n",
       "      <td>1.04</td>\n",
       "      <td>2.93</td>\n",
       "      <td>735</td>\n",
       "    </tr>\n",
       "  </tbody>\n",
       "</table>\n",
       "</div>"
      ],
      "text/plain": [
       "   0      1     2     3     4    5     6     7     8     9     10    11    12  \\\n",
       "0   1  14.23  1.71  2.43  15.6  127  2.80  3.06  0.28  2.29  5.64  1.04  3.92   \n",
       "1   1  13.20  1.78  2.14  11.2  100  2.65  2.76  0.26  1.28  4.38  1.05  3.40   \n",
       "2   1  13.16  2.36  2.67  18.6  101  2.80  3.24  0.30  2.81  5.68  1.03  3.17   \n",
       "3   1  14.37  1.95  2.50  16.8  113  3.85  3.49  0.24  2.18  7.80  0.86  3.45   \n",
       "4   1  13.24  2.59  2.87  21.0  118  2.80  2.69  0.39  1.82  4.32  1.04  2.93   \n",
       "\n",
       "     13  \n",
       "0  1065  \n",
       "1  1050  \n",
       "2  1185  \n",
       "3  1480  \n",
       "4   735  "
      ]
     },
     "execution_count": 2,
     "metadata": {},
     "output_type": "execute_result"
    }
   ],
   "source": [
    "data = pd.read_csv('wine_data.csv', header=None)\n",
    "print(data.shape)\n",
    "data.head()"
   ]
  },
  {
   "cell_type": "code",
   "execution_count": 3,
   "metadata": {},
   "outputs": [
    {
     "name": "stdout",
     "output_type": "stream",
     "text": [
      "(178, 13) (178,)\n"
     ]
    },
    {
     "name": "stderr",
     "output_type": "stream",
     "text": [
      "C:\\Users\\nepti\\Anaconda3\\lib\\site-packages\\ipykernel_launcher.py:1: FutureWarning: Method .as_matrix will be removed in a future version. Use .values instead.\n",
      "  \"\"\"Entry point for launching an IPython kernel.\n",
      "C:\\Users\\nepti\\Anaconda3\\lib\\site-packages\\ipykernel_launcher.py:2: FutureWarning: Method .as_matrix will be removed in a future version. Use .values instead.\n",
      "  \n"
     ]
    }
   ],
   "source": [
    "y = data[0].as_matrix()\n",
    "X = data.drop(0, axis=1).as_matrix()\n",
    "print(X.shape, y.shape)"
   ]
  },
  {
   "cell_type": "markdown",
   "metadata": {},
   "source": [
    "#### Decision Tree"
   ]
  },
  {
   "cell_type": "code",
   "execution_count": 4,
   "metadata": {},
   "outputs": [],
   "source": [
    "from sklearn.tree import DecisionTreeClassifier\n",
    "clf = DecisionTreeClassifier()"
   ]
  },
  {
   "cell_type": "code",
   "execution_count": 5,
   "metadata": {},
   "outputs": [],
   "source": [
    "from sklearn.model_selection import cross_val_score"
   ]
  },
  {
   "cell_type": "code",
   "execution_count": 29,
   "metadata": {},
   "outputs": [
    {
     "data": {
      "text/plain": [
       "0.8854547304547303"
      ]
     },
     "execution_count": 29,
     "metadata": {},
     "output_type": "execute_result"
    }
   ],
   "source": [
    "scores = cross_val_score(clf, X, y, cv=10, scoring = 'f1_macro')\n",
    "scores.mean()"
   ]
  },
  {
   "cell_type": "code",
   "execution_count": 7,
   "metadata": {},
   "outputs": [],
   "source": [
    "from sklearn.feature_selection import SelectKBest\n",
    "from sklearn.feature_selection import mutual_info_classif"
   ]
  },
  {
   "cell_type": "code",
   "execution_count": 15,
   "metadata": {},
   "outputs": [],
   "source": [
    "X_new = SelectKBest(mutual_info_classif, k=10).fit_transform(X, y)"
   ]
  },
  {
   "cell_type": "code",
   "execution_count": 30,
   "metadata": {},
   "outputs": [
    {
     "data": {
      "text/plain": [
       "0.8952722332134098"
      ]
     },
     "execution_count": 30,
     "metadata": {},
     "output_type": "execute_result"
    }
   ],
   "source": [
    "scores = cross_val_score(clf, X_new, y, cv=10, scoring = 'f1_macro')\n",
    "scores.mean()"
   ]
  },
  {
   "cell_type": "code",
   "execution_count": 33,
   "metadata": {},
   "outputs": [
    {
     "name": "stdout",
     "output_type": "stream",
     "text": [
      "Optimal number of features: 4\n"
     ]
    },
    {
     "name": "stderr",
     "output_type": "stream",
     "text": [
      "C:\\Users\\nepti\\Anaconda3\\lib\\site-packages\\sklearn\\metrics\\classification.py:1135: UndefinedMetricWarning: F-score is ill-defined and being set to 0.0 in labels with no predicted samples.\n",
      "  'precision', 'predicted', average, warn_for)\n"
     ]
    }
   ],
   "source": [
    "from sklearn.feature_selection import RFECV\n",
    "\n",
    "rfecv = RFECV(estimator=DecisionTreeClassifier(), step=1, cv=15, scoring = 'f1_macro')\n",
    "#rfecv.fit(X_train, y_train)\n",
    "rfecv.fit(X, y)\n",
    "\n",
    "print(\"Optimal number of features: %d\" % rfecv.n_features_)\n",
    "#print('Selected features: %s' % (X_train[:,rfecv.support_]))\n",
    "X_new = X[:,rfecv.support_]"
   ]
  },
  {
   "cell_type": "code",
   "execution_count": 36,
   "metadata": {},
   "outputs": [
    {
     "data": {
      "text/plain": [
       "0.9107141932141932"
      ]
     },
     "execution_count": 36,
     "metadata": {},
     "output_type": "execute_result"
    }
   ],
   "source": [
    "scores = cross_val_score(clf, X_new, y, cv=10, scoring = 'f1_macro')\n",
    "scores.mean()"
   ]
  },
  {
   "cell_type": "code",
   "execution_count": 37,
   "metadata": {},
   "outputs": [],
   "source": [
    "from sklearn.model_selection import GridSearchCV"
   ]
  },
  {
   "cell_type": "code",
   "execution_count": 41,
   "metadata": {},
   "outputs": [
    {
     "data": {
      "text/plain": [
       "({'criterion': 'entropy', 'max_depth': 9}, 0.917293286714478)"
      ]
     },
     "execution_count": 41,
     "metadata": {},
     "output_type": "execute_result"
    }
   ],
   "source": [
    "params = {\n",
    "    'criterion':['gini', 'entropy'],\n",
    "    'max_depth':range(3,10,2)\n",
    "}\n",
    "gsearch_DT = GridSearchCV(DecisionTreeClassifier(), \n",
    "                       param_grid = params, cv=5, scoring = 'f1_macro')\n",
    "gsearch_DT.fit(X,y)\n",
    "gsearch_DT.best_params_, gsearch_DT.best_score_ # score по умолчанию accuracy?"
   ]
  },
  {
   "cell_type": "markdown",
   "metadata": {},
   "source": [
    "#### RandomForest"
   ]
  },
  {
   "cell_type": "code",
   "execution_count": 42,
   "metadata": {},
   "outputs": [
    {
     "name": "stderr",
     "output_type": "stream",
     "text": [
      "C:\\Users\\nepti\\Anaconda3\\lib\\site-packages\\sklearn\\ensemble\\weight_boosting.py:29: DeprecationWarning: numpy.core.umath_tests is an internal NumPy module and should not be imported. It will be removed in a future NumPy release.\n",
      "  from numpy.core.umath_tests import inner1d\n"
     ]
    }
   ],
   "source": [
    "from sklearn.ensemble import RandomForestClassifier\n",
    "clf = RandomForestClassifier()"
   ]
  },
  {
   "cell_type": "code",
   "execution_count": 43,
   "metadata": {},
   "outputs": [
    {
     "data": {
      "text/plain": [
       "0.9605733155733155"
      ]
     },
     "execution_count": 43,
     "metadata": {},
     "output_type": "execute_result"
    }
   ],
   "source": [
    "scores = cross_val_score(clf, X, y, cv=10, scoring = 'f1_macro')\n",
    "scores.mean()"
   ]
  },
  {
   "cell_type": "code",
   "execution_count": 48,
   "metadata": {},
   "outputs": [
    {
     "name": "stderr",
     "output_type": "stream",
     "text": [
      "C:\\Users\\nepti\\Anaconda3\\lib\\site-packages\\sklearn\\metrics\\classification.py:1135: UndefinedMetricWarning: F-score is ill-defined and being set to 0.0 in labels with no predicted samples.\n",
      "  'precision', 'predicted', average, warn_for)\n"
     ]
    },
    {
     "name": "stdout",
     "output_type": "stream",
     "text": [
      "Optimal number of features: 7\n"
     ]
    }
   ],
   "source": [
    "rfecv = RFECV(estimator=RandomForestClassifier(), step=1, cv=15, scoring = 'f1_macro')\n",
    "rfecv.fit(X, y)\n",
    "\n",
    "print(\"Optimal number of features: %d\" % rfecv.n_features_)\n",
    "X_new = X[:,rfecv.support_]"
   ]
  },
  {
   "cell_type": "code",
   "execution_count": 49,
   "metadata": {},
   "outputs": [
    {
     "data": {
      "text/plain": [
       "0.9739860139860139"
      ]
     },
     "execution_count": 49,
     "metadata": {},
     "output_type": "execute_result"
    }
   ],
   "source": [
    "scores = cross_val_score(clf, X_new, y, cv=10, scoring = 'f1_macro')\n",
    "scores.mean()"
   ]
  },
  {
   "cell_type": "code",
   "execution_count": 50,
   "metadata": {},
   "outputs": [
    {
     "data": {
      "text/plain": [
       "{'bootstrap': True,\n",
       " 'class_weight': None,\n",
       " 'criterion': 'gini',\n",
       " 'max_depth': None,\n",
       " 'max_features': 'auto',\n",
       " 'max_leaf_nodes': None,\n",
       " 'min_impurity_decrease': 0.0,\n",
       " 'min_impurity_split': None,\n",
       " 'min_samples_leaf': 1,\n",
       " 'min_samples_split': 2,\n",
       " 'min_weight_fraction_leaf': 0.0,\n",
       " 'n_estimators': 10,\n",
       " 'n_jobs': 1,\n",
       " 'oob_score': False,\n",
       " 'random_state': None,\n",
       " 'verbose': 0,\n",
       " 'warm_start': False}"
      ]
     },
     "execution_count": 50,
     "metadata": {},
     "output_type": "execute_result"
    }
   ],
   "source": [
    "clf.get_params()"
   ]
  },
  {
   "cell_type": "code",
   "execution_count": 51,
   "metadata": {},
   "outputs": [],
   "source": [
    "params = {\n",
    "    'criterion':['gini', 'entropy'],\n",
    "    'max_depth':range(3,15,2),\n",
    "    'n_estimators': [1, 2, 4, 8, 16, 32, 64, 100]\n",
    "}\n",
    "gsearch_RF = GridSearchCV(RandomForestClassifier(), \n",
    "                       param_grid = params, cv=5, scoring = 'f1_macro')"
   ]
  },
  {
   "cell_type": "code",
   "execution_count": 52,
   "metadata": {},
   "outputs": [
    {
     "data": {
      "text/plain": [
       "({'criterion': 'entropy', 'max_depth': 13, 'n_estimators': 32},\n",
       " 0.9840138014295318)"
      ]
     },
     "execution_count": 52,
     "metadata": {},
     "output_type": "execute_result"
    }
   ],
   "source": [
    "gsearch_RF.fit(X,y)\n",
    "gsearch_RF.best_params_, gsearch_RF.best_score_"
   ]
  },
  {
   "cell_type": "markdown",
   "metadata": {},
   "source": [
    "### Задание 2 (LinearRegression vs Tree-based algorithms)\n",
    "Примените к BostonDataset линейную регрессию. Сравните ее качество на кросс-валидации с качеством DecisionTreeRegressor и RandomForestRegressor (см. заполненный ноутбук DT_RF_filled).\n",
    "Какой алгоритм работает лучше?"
   ]
  },
  {
   "cell_type": "markdown",
   "metadata": {},
   "source": [
    "#### LinearRegression"
   ]
  },
  {
   "cell_type": "code",
   "execution_count": 53,
   "metadata": {},
   "outputs": [],
   "source": [
    "from sklearn.datasets import load_boston\n",
    "\n",
    "data = load_boston()\n",
    "X = data.data\n",
    "y = data.target"
   ]
  },
  {
   "cell_type": "code",
   "execution_count": 54,
   "metadata": {},
   "outputs": [],
   "source": [
    "from sklearn.linear_model import LinearRegression\n",
    "clf = LinearRegression()"
   ]
  },
  {
   "cell_type": "code",
   "execution_count": 55,
   "metadata": {},
   "outputs": [
    {
     "name": "stdout",
     "output_type": "stream",
     "text": [
      "37.2228436371383 0.3507413509325238\n"
     ]
    }
   ],
   "source": [
    "print(-cross_val_score(clf, X, y, cv=5,\n",
    "                       scoring='neg_mean_squared_error').mean(),\n",
    "     cross_val_score(clf, X, y, cv=5, \n",
    "                       scoring='r2').mean())"
   ]
  },
  {
   "cell_type": "code",
   "execution_count": 56,
   "metadata": {},
   "outputs": [],
   "source": [
    "import matplotlib.pyplot as plt"
   ]
  },
  {
   "cell_type": "code",
   "execution_count": 57,
   "metadata": {},
   "outputs": [
    {
     "data": {
      "text/plain": [
       "Text(0.5,1,'Prices vs Predicted prices: $Y_i$ vs $\\\\hat{Y}_i$')"
      ]
     },
     "execution_count": 57,
     "metadata": {},
     "output_type": "execute_result"
    },
    {
     "data": {
      "image/png": "[encoded data removed]",
      "text/plain": [
       "<Figure size 432x288 with 1 Axes>"
      ]
     },
     "metadata": {
      "needs_background": "light"
     },
     "output_type": "display_data"
    }
   ],
   "source": [
    "from sklearn.model_selection import cross_val_predict\n",
    "y_pred = cross_val_predict(clf, X, y, cv=5) # корректно ли так делать?\n",
    "\n",
    "plt.scatter(y, y_pred)\n",
    "plt.xlabel(\"Prices: $Y_i$\")\n",
    "plt.ylabel(\"Predicted prices: $\\hat{Y}_i$\")\n",
    "plt.title(\"Prices vs Predicted prices: $Y_i$ vs $\\hat{Y}_i$\")"
   ]
  },
  {
   "cell_type": "markdown",
   "metadata": {},
   "source": [
    "#### LinearRegression with regularization"
   ]
  },
  {
   "cell_type": "code",
   "execution_count": 58,
   "metadata": {},
   "outputs": [],
   "source": [
    "from sklearn.preprocessing import StandardScaler\n",
    "from sklearn.pipeline import Pipeline\n",
    "from sklearn.linear_model import ElasticNet, Ridge, Lasso\n",
    "from sklearn.model_selection import train_test_split\n",
    "from sklearn.metrics import r2_score\n",
    "\n",
    "#clf.fit(X_train, y_train)\n",
    "#feature_importances = list(sorted(zip(X.columns, clf.steps[1][1].coef_.squeeze()), key=lambda x: -abs(x[1]))) # объедим названия признаков и их важность в один список методом zip, отсортируем в порядке возрастания коэффициентов\n",
    "#pd.DataFrame(feature_importances, columns=['feature_name', 'feature_importance'])[:10]"
   ]
  },
  {
   "cell_type": "code",
   "execution_count": 59,
   "metadata": {},
   "outputs": [
    {
     "name": "stderr",
     "output_type": "stream",
     "text": [
      "C:\\Users\\nepti\\Anaconda3\\lib\\site-packages\\sklearn\\model_selection\\_split.py:2026: FutureWarning: From version 0.21, test_size will always complement train_size unless both are specified.\n",
      "  FutureWarning)\n"
     ]
    }
   ],
   "source": [
    "X_train, X_test, y_train, y_test = train_test_split(X, y, train_size=0.8)"
   ]
  },
  {
   "cell_type": "code",
   "execution_count": 61,
   "metadata": {},
   "outputs": [
    {
     "name": "stdout",
     "output_type": "stream",
     "text": [
      "R2 for best RidgeRegression (train): 0.68493 {'regressor__alpha': 10.0}\n",
      "R2 for best RidgeRegression (test): 0.67798\n"
     ]
    }
   ],
   "source": [
    "# Ridge\n",
    "clf = Pipeline([('scaler', StandardScaler()),\n",
    "                ('regressor', Ridge())])\n",
    "grid_params = {\n",
    "    'regressor__alpha': [0.1, 1, 1.5, 2.0, 10.0, 100.0],\n",
    "}\n",
    "gsearch_Rige = GridSearchCV(clf, grid_params, cv=5,verbose=0,scoring='r2')\n",
    "\n",
    "gsearch_Rige.fit(X_train, y_train)\n",
    "y_pred = gsearch_Rige.best_estimator_.predict(X_test)\n",
    "print('R2 for best RidgeRegression (train): %.5f' % gsearch_Rige.best_score_, gsearch_Rige.best_params_)\n",
    "print('R2 for best RidgeRegression (test): %.5f' % r2_score(y_pred, y_test))\n",
    "\n",
    "#print(gsearch_Rige.best_score_, gsearch_Rige.best_params_)\n",
    "\n"
   ]
  },
  {
   "cell_type": "code",
   "execution_count": 64,
   "metadata": {},
   "outputs": [
    {
     "name": "stdout",
     "output_type": "stream",
     "text": [
      "R2 for best LassoRegression (train): 0.67925 {'regressor__alpha': 0.1}\n",
      "R2 for best LassoRegression (test): 0.66105\n"
     ]
    }
   ],
   "source": [
    "# Lasso\n",
    "clf = Pipeline([('scaler', StandardScaler()),\n",
    "                ('regressor', Lasso())])\n",
    "grid_params = {\n",
    "    'regressor__alpha': [0.1, 1, 1.5, 2.0, 10.0, 100.0], \n",
    "}\n",
    "gsearch_Lasso = GridSearchCV(clf, grid_params, cv=5,verbose=0,scoring='r2')\n",
    "gsearch_Lasso.fit(X_train, y_train)\n",
    "y_pred = gsearch_Lasso.best_estimator_.predict(X_test)\n",
    "print('R2 for best LassoRegression (train): %.5f' % gsearch_Lasso.best_score_, gsearch_Lasso.best_params_)\n",
    "print('R2 for best LassoRegression (test): %.5f' % r2_score(y_pred, y_test))\n"
   ]
  },
  {
   "cell_type": "code",
   "execution_count": 65,
   "metadata": {},
   "outputs": [
    {
     "name": "stdout",
     "output_type": "stream",
     "text": [
      "R2 for best ElasticNet (train): 0.68111 {'regressor__alpha': 0.1, 'regressor__l1_ratio': 0.1}\n",
      "R2 for best ElasticNet (test): 0.63914\n"
     ]
    }
   ],
   "source": [
    "# ElasticNet\n",
    "clf = Pipeline([('scaler', StandardScaler()),\n",
    "                ('regressor', ElasticNet())])\n",
    "grid_params = {\n",
    "    'regressor__alpha': [0.1, 1, 1.5, 2.0, 10.0, 100.0], # насколько большая будет регуляризация\n",
    "    'regressor__l1_ratio': [0.1, 0.1, 0.5, 0.8, 1.0] # какая доля L1 регуляризации по отношению к общей\n",
    "}\n",
    "gsearch_EN = GridSearchCV(clf, grid_params, cv=5,verbose=0,scoring='r2')\n",
    "gsearch_EN.fit(X_train, y_train)\n",
    "y_pred = gsearch_EN.best_estimator_.predict(X_test)\n",
    "print('R2 for best ElasticNet (train): %.5f' % gsearch_EN.best_score_, gsearch_EN.best_params_)\n",
    "print('R2 for best ElasticNet (test): %.5f' % r2_score(y_pred, y_test))\n"
   ]
  },
  {
   "cell_type": "markdown",
   "metadata": {},
   "source": [
    "#### DecisionTreeRegressor"
   ]
  },
  {
   "cell_type": "code",
   "execution_count": 66,
   "metadata": {},
   "outputs": [
    {
     "name": "stdout",
     "output_type": "stream",
     "text": [
      "45.34385633857504 0.03533846338104087\n"
     ]
    }
   ],
   "source": [
    "#from sklearn.model_selection import KFold\n",
    "#cv = KFold(X.shape[0], shuffle=True, random_state=241) # leave one out?\n",
    "#cv=cv\n",
    "\n",
    "from sklearn.tree import DecisionTreeRegressor\n",
    "clf = DecisionTreeRegressor(random_state=42) \n",
    "print(-cross_val_score(clf, X, y, cv=5,\n",
    "                       scoring='neg_mean_squared_error').mean(),\n",
    "      cross_val_score(clf, X, y, cv=5, \n",
    "                       scoring='r2').mean())"
   ]
  },
  {
   "cell_type": "code",
   "execution_count": 67,
   "metadata": {},
   "outputs": [
    {
     "data": {
      "text/plain": [
       "{'criterion': 'mse',\n",
       " 'max_depth': None,\n",
       " 'max_features': None,\n",
       " 'max_leaf_nodes': None,\n",
       " 'min_impurity_decrease': 0.0,\n",
       " 'min_impurity_split': None,\n",
       " 'min_samples_leaf': 1,\n",
       " 'min_samples_split': 2,\n",
       " 'min_weight_fraction_leaf': 0.0,\n",
       " 'presort': False,\n",
       " 'random_state': 42,\n",
       " 'splitter': 'best'}"
      ]
     },
     "execution_count": 67,
     "metadata": {},
     "output_type": "execute_result"
    }
   ],
   "source": [
    "clf.get_params()"
   ]
  },
  {
   "cell_type": "code",
   "execution_count": 68,
   "metadata": {},
   "outputs": [],
   "source": [
    "import numpy as np"
   ]
  },
  {
   "cell_type": "code",
   "execution_count": 69,
   "metadata": {},
   "outputs": [
    {
     "name": "stdout",
     "output_type": "stream",
     "text": [
      "R2 for best DecisionTreeRegressor (train): 0.74943 {'max_depth': 6, 'max_features': None, 'min_samples_leaf': 2}\n",
      "R2 for best DecisionTreeRegressor (test): 0.81145\n"
     ]
    }
   ],
   "source": [
    "gsearch_DT = GridSearchCV(DecisionTreeRegressor(random_state=42),\n",
    "                  param_grid={'max_features': [None, 'log2', 'sqrt'], \n",
    "                              'max_depth': [2, 4, 6, 8, 10, 20, 50],\n",
    "                             'min_samples_leaf': np.arange(1,20,1)},\n",
    "                  cv=5,\n",
    "                  scoring='r2')\n",
    "gsearch_DT.fit(X_train, y_train)\n",
    "y_pred = gsearch_DT.best_estimator_.predict(X_test)\n",
    "print('R2 for best DecisionTreeRegressor (train): %.5f' % gsearch_DT.best_score_, gsearch_DT.best_params_)\n",
    "print('R2 for best DecisionTreeRegressor (test): %.5f' % r2_score(y_pred, y_test))"
   ]
  },
  {
   "cell_type": "markdown",
   "metadata": {},
   "source": [
    "#### RandomForestRegressor"
   ]
  },
  {
   "cell_type": "code",
   "execution_count": 70,
   "metadata": {},
   "outputs": [
    {
     "name": "stdout",
     "output_type": "stream",
     "text": [
      "25.231575814404966 0.5359833237312592\n"
     ]
    }
   ],
   "source": [
    "from sklearn.ensemble import RandomForestRegressor\n",
    "clf = RandomForestRegressor(random_state=42) \n",
    "print(-cross_val_score(clf, X, y, cv=5,\n",
    "                       scoring='neg_mean_squared_error').mean(),\n",
    "      cross_val_score(clf, X, y, cv=5, \n",
    "                       scoring='r2').mean())"
   ]
  },
  {
   "cell_type": "code",
   "execution_count": 71,
   "metadata": {},
   "outputs": [
    {
     "data": {
      "text/plain": [
       "{'bootstrap': True,\n",
       " 'criterion': 'mse',\n",
       " 'max_depth': None,\n",
       " 'max_features': 'auto',\n",
       " 'max_leaf_nodes': None,\n",
       " 'min_impurity_decrease': 0.0,\n",
       " 'min_impurity_split': None,\n",
       " 'min_samples_leaf': 1,\n",
       " 'min_samples_split': 2,\n",
       " 'min_weight_fraction_leaf': 0.0,\n",
       " 'n_estimators': 10,\n",
       " 'n_jobs': 1,\n",
       " 'oob_score': False,\n",
       " 'random_state': 42,\n",
       " 'verbose': 0,\n",
       " 'warm_start': False}"
      ]
     },
     "execution_count": 71,
     "metadata": {},
     "output_type": "execute_result"
    }
   ],
   "source": [
    "clf.get_params()"
   ]
  },
  {
   "cell_type": "code",
   "execution_count": 72,
   "metadata": {},
   "outputs": [
    {
     "name": "stdout",
     "output_type": "stream",
     "text": [
      "R2 for best DecisionTreeRegressor (train): 0.84016 {'max_depth': 10, 'max_features': 'log2', 'min_samples_leaf': 1, 'n_estimators': 65}\n",
      "R2 for best DecisionTreeRegressor (test): 0.80075\n"
     ]
    }
   ],
   "source": [
    "gsearch_DT = GridSearchCV(RandomForestRegressor(random_state=42),\n",
    "                  param_grid={'max_features': [None, 'log2', 'sqrt'], \n",
    "                              'max_depth': [2, 4, 6, 8, 10, 20, 50],\n",
    "                             'min_samples_leaf': np.arange(1,20,1),\n",
    "                             'n_estimators': np.arange(5,120,20)},\n",
    "                  cv=5,\n",
    "                  scoring='r2')\n",
    "gsearch_DT.fit(X_train, y_train)\n",
    "y_pred = gsearch_DT.best_estimator_.predict(X_test)\n",
    "print('R2 for best DecisionTreeRegressor (train): %.5f' % gsearch_DT.best_score_, gsearch_DT.best_params_)\n",
    "print('R2 for best DecisionTreeRegressor (test): %.5f' % r2_score(y_pred, y_test))"
   ]
  },
  {
   "cell_type": "code",
   "execution_count": 30,
   "metadata": {},
   "outputs": [],
   "source": [
    "# RandomForestRegressor лучше всего, но немного переобучился"
   ]
  },
  {
   "cell_type": "code",
   "execution_count": 75,
   "metadata": {},
   "outputs": [
    {
     "name": "stderr",
     "output_type": "stream",
     "text": [
      "100%|████████████████████████████████████████████████████████████████████████████████████| 6/6 [00:08<00:00,  1.45s/it]\n"
     ]
    },
    {
     "data": {
      "text/plain": [
       "([<matplotlib.axis.XTick at 0x23ac0a09208>,\n",
       "  <matplotlib.axis.XTick at 0x23ac0a2c780>,\n",
       "  <matplotlib.axis.XTick at 0x23ac0a2c518>,\n",
       "  <matplotlib.axis.XTick at 0x23ac0a28978>,\n",
       "  <matplotlib.axis.XTick at 0x23ac0a28e10>,\n",
       "  <matplotlib.axis.XTick at 0x23ac0a0c1d0>],\n",
       " <a list of 6 Text xticklabel objects>)"
      ]
     },
     "execution_count": 75,
     "metadata": {},
     "output_type": "execute_result"
    },
    {
     "data": {
      "image/png": "[encoded data removed]",
      "text/plain": [
       "<Figure size 432x288 with 1 Axes>"
      ]
     },
     "metadata": {
      "needs_background": "light"
     },
     "output_type": "display_data"
    }
   ],
   "source": [
    "from tqdm import tqdm\n",
    "import pylab as plt\n",
    "\n",
    "Ntrees = np.arange(5,120,20)\n",
    "#Ntrees = [10, 100, 500, 1000]\n",
    "Scores = []\n",
    "\n",
    "for elem in tqdm(Ntrees):\n",
    "    regr = RandomForestRegressor(n_estimators=elem, n_jobs=-1)\n",
    "    Scores.append(-cross_val_score(regr, X_train, y_train, cv=5,\n",
    "                       scoring='neg_mean_squared_error').mean())\n",
    "    \n",
    "plt.plot(Scores)\n",
    "plt.xticks(np.arange(len(Ntrees)), Ntrees)"
   ]
  },
  {
   "cell_type": "code",
   "execution_count": 76,
   "metadata": {},
   "outputs": [
    {
     "name": "stderr",
     "output_type": "stream",
     "text": [
      "100%|████████████████████████████████████████████████████████████████████████████████████| 6/6 [00:08<00:00,  1.46s/it]\n"
     ]
    },
    {
     "data": {
      "text/plain": [
       "([<matplotlib.axis.XTick at 0x23ac0a6ecc0>,\n",
       "  <matplotlib.axis.XTick at 0x23ac0a7c208>,\n",
       "  <matplotlib.axis.XTick at 0x23ac0a7c128>,\n",
       "  <matplotlib.axis.XTick at 0x23ac09da390>,\n",
       "  <matplotlib.axis.XTick at 0x23ac09da828>,\n",
       "  <matplotlib.axis.XTick at 0x23ac09daba8>],\n",
       " <a list of 6 Text xticklabel objects>)"
      ]
     },
     "execution_count": 76,
     "metadata": {},
     "output_type": "execute_result"
    },
    {
     "data": {
      "image/png": "[encoded data removed]",
      "text/plain": [
       "<Figure size 432x288 with 1 Axes>"
      ]
     },
     "metadata": {
      "needs_background": "light"
     },
     "output_type": "display_data"
    }
   ],
   "source": [
    "Ntrees = np.arange(5,120,20)\n",
    "Scores = []\n",
    "\n",
    "for elem in tqdm(Ntrees):\n",
    "    regr = RandomForestRegressor(n_estimators=elem, n_jobs=-1)\n",
    "    Scores.append(cross_val_score(regr, X_train, y_train, cv=5,\n",
    "                       scoring='r2').mean())\n",
    "    \n",
    "plt.plot(Scores)\n",
    "plt.xticks(np.arange(len(Ntrees)), Ntrees)"
   ]
  },
  {
   "cell_type": "markdown",
   "metadata": {},
   "source": [
    "### Задание 3 (Boosting vs Bagging)\n",
    "\n",
    "Поработайте с датасетом Diabetes. Ваша задача - получить как можно более высокое качество на кросс-валидации.\n",
    "\n",
    "Вы можете использовать любые известные вам алгоритмы и методы обработки данных, но обязательно попробуйте DecisionTreeRegressor, RandomForestRegressor и GradientBoostingRegressor. Не забудьте подобрать параметры у алгоритмов.\n",
    "\n",
    "Для RandomForestRegressor и GradientBoostingRegressor с оптимальными параметрами постройте график зависимости качества алгоритмов от количества деревьев."
   ]
  },
  {
   "cell_type": "code",
   "execution_count": 77,
   "metadata": {},
   "outputs": [],
   "source": [
    "from sklearn.datasets import load_diabetes\n",
    "\n",
    "data = load_diabetes()\n",
    "\n",
    "X_full = data.data\n",
    "y_full = data.target"
   ]
  },
  {
   "cell_type": "code",
   "execution_count": 78,
   "metadata": {},
   "outputs": [
    {
     "name": "stderr",
     "output_type": "stream",
     "text": [
      "C:\\Users\\nepti\\Anaconda3\\lib\\site-packages\\sklearn\\model_selection\\_split.py:2026: FutureWarning: From version 0.21, test_size will always complement train_size unless both are specified.\n",
      "  FutureWarning)\n"
     ]
    }
   ],
   "source": [
    "from sklearn.model_selection import train_test_split\n",
    "X_train, X_test, y_train, y_test = train_test_split(X_full, y_full, train_size=0.5, random_state=42)"
   ]
  },
  {
   "cell_type": "markdown",
   "metadata": {},
   "source": [
    "#### DecisionTreeRegressor"
   ]
  },
  {
   "cell_type": "code",
   "execution_count": 79,
   "metadata": {},
   "outputs": [
    {
     "name": "stdout",
     "output_type": "stream",
     "text": [
      "6363.7451515151515 -0.08065529351847803\n"
     ]
    }
   ],
   "source": [
    "from sklearn.tree import DecisionTreeRegressor\n",
    "from sklearn.model_selection import cross_val_score\n",
    "\n",
    "clf = DecisionTreeRegressor(random_state=42) \n",
    "print(-cross_val_score(clf, X_train, y_train, cv=5,\n",
    "                       scoring='neg_mean_squared_error').mean(),\n",
    "      cross_val_score(clf, X_train, y_train, cv=5, \n",
    "                       scoring='r2').mean())"
   ]
  },
  {
   "cell_type": "code",
   "execution_count": null,
   "metadata": {},
   "outputs": [],
   "source": [
    "#y_pred = clf.predict(X_test)\n",
    "#r2_score(y_pred, y_test)"
   ]
  },
  {
   "cell_type": "code",
   "execution_count": 80,
   "metadata": {},
   "outputs": [
    {
     "name": "stdout",
     "output_type": "stream",
     "text": [
      "R2 for best DecisionTreeRegressor (train): 0.34519 {'max_depth': 2, 'max_features': None, 'min_samples_leaf': 1}\n",
      "R2 for best DecisionTreeRegressor (test): -0.78492\n"
     ]
    }
   ],
   "source": [
    "gsearch_DT = GridSearchCV(DecisionTreeRegressor(random_state=42),\n",
    "                  param_grid={'max_features': [None, 'log2', 'sqrt'], \n",
    "                              'max_depth': [2, 4, 6, 8, 10, 20, 50],\n",
    "                             'min_samples_leaf': np.arange(1,20,1)},\n",
    "                  cv=5,\n",
    "                  scoring='r2')\n",
    "gsearch_DT.fit(X_train, y_train)\n",
    "y_pred = gsearch_DT.best_estimator_.predict(X_test)\n",
    "print('R2 for best DecisionTreeRegressor (train): %.5f' % gsearch_DT.best_score_, gsearch_DT.best_params_)\n",
    "print('R2 for best DecisionTreeRegressor (test): %.5f' % r2_score(y_pred, y_test))"
   ]
  },
  {
   "cell_type": "code",
   "execution_count": 81,
   "metadata": {},
   "outputs": [],
   "source": [
    "from sklearn.metrics import mean_squared_error"
   ]
  },
  {
   "cell_type": "code",
   "execution_count": 83,
   "metadata": {},
   "outputs": [
    {
     "name": "stdout",
     "output_type": "stream",
     "text": [
      "mean_squared_error for best DecisionTreeRegressor (train): 3888.57182 {'max_depth': 2, 'max_features': None, 'min_samples_leaf': 1}\n",
      "mean_squared_error for best DecisionTreeRegressor (test): 4401.67431\n"
     ]
    }
   ],
   "source": [
    "gsearch_DT = GridSearchCV(DecisionTreeRegressor(random_state=42),\n",
    "                  param_grid={'max_features': [None, 'log2', 'sqrt'], \n",
    "                              'max_depth': [2, 4, 6, 8, 10, 20, 50],\n",
    "                             'min_samples_leaf': np.arange(1,20,1)},\n",
    "                  cv=5,\n",
    "                  scoring='neg_mean_squared_error')\n",
    "gsearch_DT.fit(X_train, y_train)\n",
    "y_pred = gsearch_DT.best_estimator_.predict(X_test)\n",
    "print('mean_squared_error for best DecisionTreeRegressor (train): %.5f' % -gsearch_DT.best_score_, gsearch_DT.best_params_)\n",
    "print('mean_squared_error for best DecisionTreeRegressor (test): %.5f' % mean_squared_error(y_pred, y_test))"
   ]
  },
  {
   "cell_type": "markdown",
   "metadata": {},
   "source": [
    "#### RandomForestRegressor"
   ]
  },
  {
   "cell_type": "code",
   "execution_count": 84,
   "metadata": {},
   "outputs": [
    {
     "name": "stdout",
     "output_type": "stream",
     "text": [
      "4096.2546262626265 0.30028533915479416\n"
     ]
    }
   ],
   "source": [
    "from sklearn.ensemble import RandomForestRegressor\n",
    "clf = RandomForestRegressor(random_state=42) \n",
    "print(-cross_val_score(clf, X_train, y_train, cv=5,\n",
    "                       scoring='neg_mean_squared_error').mean(),\n",
    "      cross_val_score(clf, X_train, y_train, cv=5, \n",
    "                       scoring='r2').mean())"
   ]
  },
  {
   "cell_type": "code",
   "execution_count": 85,
   "metadata": {},
   "outputs": [
    {
     "name": "stdout",
     "output_type": "stream",
     "text": [
      "R2 for best DecisionTreeRegressor (train): 0.41004 {'max_depth': 4, 'max_features': 'log2', 'min_samples_leaf': 1}\n",
      "R2 for best DecisionTreeRegressor (test): -0.52653\n"
     ]
    }
   ],
   "source": [
    "gsearch_DT = GridSearchCV(RandomForestRegressor(random_state=42),\n",
    "                  param_grid={'max_features': [None, 'log2', 'sqrt'], \n",
    "                              'max_depth': [2, 4, 6, 8, 10, 20, 50],\n",
    "                             'min_samples_leaf': np.arange(1,20,1)},\n",
    "                  cv=5,\n",
    "                  scoring='r2')\n",
    "gsearch_DT.fit(X_train, y_train)\n",
    "y_pred = gsearch_DT.best_estimator_.predict(X_test)\n",
    "print('R2 for best DecisionTreeRegressor (train): %.5f' % gsearch_DT.best_score_, gsearch_DT.best_params_)\n",
    "print('R2 for best DecisionTreeRegressor (test): %.5f' % r2_score(y_pred, y_test))"
   ]
  },
  {
   "cell_type": "code",
   "execution_count": 89,
   "metadata": {},
   "outputs": [],
   "source": [
    "MAX_ESTIMATORS = 250\n",
    "rfreg = RandomForestRegressor(max_depth = 4, max_features = 'log2', min_samples_leaf = 1)\n",
    "err_train_rf = []\n",
    "err_test_rf = []\n",
    "for i in range(1, MAX_ESTIMATORS+1):\n",
    "    rfreg.n_estimators = i\n",
    "    rfreg.fit(X_train, y_train)\n",
    "    err_train_rf.append(1 - rfreg.score(X_train, y_train))\n",
    "    err_test_rf.append(1 - rfreg.score(X_test, y_test))"
   ]
  },
  {
   "cell_type": "markdown",
   "metadata": {},
   "source": [
    "#### GradientBoostingRegressor"
   ]
  },
  {
   "cell_type": "code",
   "execution_count": 91,
   "metadata": {},
   "outputs": [],
   "source": [
    "from sklearn.ensemble import GradientBoostingRegressor"
   ]
  },
  {
   "cell_type": "code",
   "execution_count": 96,
   "metadata": {},
   "outputs": [
    {
     "name": "stdout",
     "output_type": "stream",
     "text": [
      "R2 for best DecisionTreeRegressor (train): 0.44902 {'learning_rate': 0.1, 'max_depth': 2, 'max_features': 'log2', 'min_samples_leaf': 7}\n",
      "R2 for best DecisionTreeRegressor (test): -0.15636\n"
     ]
    }
   ],
   "source": [
    "gsearch_DT = GridSearchCV(GradientBoostingRegressor(random_state=42),\n",
    "                  param_grid={'max_features': [None, 'log2', 'sqrt'], \n",
    "                              'max_depth': [2, 4, 6, 8, 10, 20, 50],\n",
    "                             'min_samples_leaf': np.arange(1,20,1),\n",
    "                             'learning_rate': [1, 0.5, 0.3, 0.2, 0.1]},\n",
    "                  cv=5,\n",
    "                  scoring='r2')\n",
    "gsearch_DT.fit(X_train, y_train)\n",
    "y_pred = gsearch_DT.best_estimator_.predict(X_test)\n",
    "print('R2 for best DecisionTreeRegressor (train): %.5f' % gsearch_DT.best_score_, gsearch_DT.best_params_)\n",
    "print('R2 for best DecisionTreeRegressor (test): %.5f' % r2_score(y_pred, y_test))"
   ]
  },
  {
   "cell_type": "code",
   "execution_count": 97,
   "metadata": {},
   "outputs": [],
   "source": [
    "MAX_ESTIMATORS = 250\n",
    "\n",
    "gbreg = GradientBoostingRegressor(warm_start=True, learning_rate = 0.1, max_depth = 2, \n",
    "                                  max_features = 'log2', min_samples_leaf = 7)\n",
    "err_train_gb = []\n",
    "err_test_gb = []\n",
    "for i in range(1, MAX_ESTIMATORS+1):\n",
    "    gbreg.n_estimators = i\n",
    "    gbreg.fit(X_train, y_train)\n",
    "    err_train_gb.append(1 - gbreg.score(X_train, y_train))\n",
    "    err_test_gb.append(1 - gbreg.score(X_test, y_test))"
   ]
  },
  {
   "cell_type": "code",
   "execution_count": 98,
   "metadata": {},
   "outputs": [
    {
     "data": {
      "text/plain": [
       "Text(0.5,1,'Test')"
      ]
     },
     "execution_count": 98,
     "metadata": {},
     "output_type": "execute_result"
    },
    {
     "data": {
      "image/png": "[encoded data removed]",
      "text/plain": [
       "<Figure size 720x288 with 2 Axes>"
      ]
     },
     "metadata": {
      "needs_background": "light"
     },
     "output_type": "display_data"
    }
   ],
   "source": [
    "plt.figure(figsize=(10, 4))\n",
    "plt.subplot(1, 2, 1)\n",
    "plt.plot(err_train_gb, label='GB')\n",
    "plt.plot(err_train_rf, label='RF')\n",
    "plt.legend()\n",
    "plt.title('Train')\n",
    "plt.subplot(1, 2, 2)\n",
    "plt.plot(err_test_gb, label='GB')\n",
    "plt.plot(err_test_rf, label='RF')\n",
    "plt.legend()\n",
    "plt.title('Test')"
   ]
  },
  {
   "cell_type": "code",
   "execution_count": null,
   "metadata": {},
   "outputs": [],
   "source": [
    "# бустинг переобучается и на тесте ведет себя хуже, случайный лес в данном случае сработал лучше"
   ]
  }
 ],
 "metadata": {
  "kernelspec": {
   "display_name": "Python 3",
   "language": "python",
   "name": "python3"
  },
  "language_info": {
   "codemirror_mode": {
    "name": "ipython",
    "version": 3
   },
   "file_extension": ".py",
   "mimetype": "text/x-python",
   "name": "python",
   "nbconvert_exporter": "python",
   "pygments_lexer": "ipython3",
   "version": "3.7.0"
  }
 },
 "nbformat": 4,
 "nbformat_minor": 2
}

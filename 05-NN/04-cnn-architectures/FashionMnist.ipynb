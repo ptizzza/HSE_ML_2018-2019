{
 "cells": [
  {
   "cell_type": "code",
   "execution_count": 40,
   "metadata": {},
   "outputs": [],
   "source": [
    "%load_ext tensorboard.notebook "
   ]
  },
  {
   "cell_type": "code",
   "execution_count": 29,
   "metadata": {},
   "outputs": [],
   "source": [
    "!rm -rf ./logs/ "
   ]
  },
  {
   "cell_type": "code",
   "execution_count": 4,
   "metadata": {},
   "outputs": [
    {
     "name": "stderr",
     "output_type": "stream",
     "text": [
      "/Users/i350114/Documents/python_env/pyth3/lib/python3.6/site-packages/h5py/__init__.py:36: FutureWarning: Conversion of the second argument of issubdtype from `float` to `np.floating` is deprecated. In future, it will be treated as `np.float64 == np.dtype(float).type`.\n",
      "  from ._conv import register_converters as _register_converters\n"
     ]
    }
   ],
   "source": [
    "import datetime\n",
    "import tensorflow as tf\n",
    "\n",
    "# Параметры для плагина с отбором гиперпараметров\n",
    "from tensorboard.plugins.hparams import api_pb2\n",
    "from tensorboard.plugins.hparams import summary as hparams_summary\n",
    "from google.protobuf import struct_pb2"
   ]
  },
  {
   "cell_type": "code",
   "execution_count": 5,
   "metadata": {},
   "outputs": [],
   "source": [
    "from matplotlib.pylab import plt\n",
    "%matplotlib inline"
   ]
  },
  {
   "cell_type": "code",
   "execution_count": 6,
   "metadata": {},
   "outputs": [],
   "source": [
    "import ssl\n",
    "ssl._create_default_https_context = ssl._create_unverified_context"
   ]
  },
  {
   "cell_type": "code",
   "execution_count": 7,
   "metadata": {},
   "outputs": [],
   "source": [
    "fashion_mnist = tf.keras.datasets.fashion_mnist\n",
    "\n",
    "(x_train, y_train),(x_test, y_test) = fashion_mnist.load_data()\n",
    "x_train, x_test = x_train / 255.0, x_test / 255.0"
   ]
  },
  {
   "cell_type": "code",
   "execution_count": 8,
   "metadata": {},
   "outputs": [
    {
     "data": {
      "text/plain": [
       "<matplotlib.image.AxesImage at 0x13e5dc240>"
      ]
     },
     "execution_count": 8,
     "metadata": {},
     "output_type": "execute_result"
    },
    {
     "data": {
      "image/png": "[encoded data removed]",
      "text/plain": [
       "<Figure size 432x288 with 1 Axes>"
      ]
     },
     "metadata": {},
     "output_type": "display_data"
    }
   ],
   "source": [
    "plt.imshow(x_train[0],cmap='gray')"
   ]
  },
  {
   "cell_type": "code",
   "execution_count": 9,
   "metadata": {},
   "outputs": [],
   "source": [
    "num_units_list = [16, 32]\n",
    "dropout_rate_list = [0.1, 0.2] \n",
    "optimizer_list = ['adam', 'sgd'] "
   ]
  },
  {
   "cell_type": "code",
   "execution_count": 10,
   "metadata": {},
   "outputs": [],
   "source": [
    "def create_experiment_summary(num_units_list, dropout_rate_list, optimizer_list):\n",
    "    num_units_list_val = struct_pb2.ListValue()\n",
    "    num_units_list_val.extend(num_units_list)\n",
    "    dropout_rate_list_val = struct_pb2.ListValue()\n",
    "    dropout_rate_list_val.extend(dropout_rate_list)\n",
    "    optimizer_list_val = struct_pb2.ListValue()\n",
    "    optimizer_list_val.extend(optimizer_list)\n",
    "    return hparams_summary.experiment_pb(\n",
    "      # The hyperparameters being changed\n",
    "            hparam_infos=[\n",
    "                  api_pb2.HParamInfo(name='num_units',\n",
    "                                     display_name='Number of units',\n",
    "                                     type=api_pb2.DATA_TYPE_FLOAT64,\n",
    "                                     domain_discrete=num_units_list_val),\n",
    "                  api_pb2.HParamInfo(name='dropout_rate',\n",
    "                                     display_name='Dropout rate',\n",
    "                                     type=api_pb2.DATA_TYPE_FLOAT64,\n",
    "                                     domain_discrete=dropout_rate_list_val),\n",
    "                  api_pb2.HParamInfo(name='optimizer',\n",
    "                                     display_name='Optimizer',\n",
    "                                     type=api_pb2.DATA_TYPE_STRING,\n",
    "                                     domain_discrete=optimizer_list_val)\n",
    "              ],\n",
    "              # The metrics being tracked\n",
    "              metric_infos=[\n",
    "                  api_pb2.MetricInfo(\n",
    "                      name=api_pb2.MetricName(\n",
    "                          tag='accuracy'),\n",
    "                      display_name='Accuracy'),\n",
    "              ]\n",
    "          )\n",
    "\n",
    "exp_summary = create_experiment_summary(num_units_list, dropout_rate_list, optimizer_list)\n",
    "root_logdir_writer = tf.summary.create_file_writer(\"logs/hparam_tuning\")\n",
    "with root_logdir_writer.as_default():\n",
    "    tf.summary.import_event(tf.compat.v1.Event(summary=exp_summary).SerializeToString())"
   ]
  },
  {
   "cell_type": "code",
   "execution_count": 11,
   "metadata": {},
   "outputs": [],
   "source": [
    "def train_test_model(hparams):\n",
    "\n",
    "    model = tf.keras.models.Sequential([\n",
    "        tf.keras.layers.Flatten(),\n",
    "        tf.keras.layers.Dense(hparams['num_units'], activation=tf.nn.relu),\n",
    "        tf.keras.layers.Dropout(hparams['dropout_rate']),\n",
    "        tf.keras.layers.Dense(10, activation=tf.nn.softmax)\n",
    "      ])\n",
    "    model.compile(optimizer=hparams['optimizer'],\n",
    "                    loss='sparse_categorical_crossentropy',\n",
    "                    metrics=['accuracy'])\n",
    "\n",
    "    model.fit(x_train, y_train, epochs=1) # Run with 1 epoch to speed things up for demo purposes\n",
    "    _, accuracy = model.evaluate(x_test, y_test)\n",
    "    return accuracy"
   ]
  },
  {
   "cell_type": "code",
   "execution_count": 12,
   "metadata": {},
   "outputs": [],
   "source": [
    "def run(run_dir, hparams):\n",
    "    writer = tf.summary.create_file_writer(run_dir)\n",
    "    summary_start = hparams_summary.session_start_pb(hparams=hparams)\n",
    "\n",
    "    with writer.as_default():\n",
    "        accuracy = train_test_model(hparams)\n",
    "        summary_end = hparams_summary.session_end_pb(api_pb2.STATUS_SUCCESS)\n",
    "\n",
    "        tf.summary.scalar('accuracy', accuracy, step=1, description=\"The accuracy\")\n",
    "        tf.summary.import_event(tf.compat.v1.Event(summary=summary_start).SerializeToString())\n",
    "        tf.summary.import_event(tf.compat.v1.Event(summary=summary_end).SerializeToString())"
   ]
  },
  {
   "cell_type": "code",
   "execution_count": 13,
   "metadata": {},
   "outputs": [
    {
     "name": "stdout",
     "output_type": "stream",
     "text": [
      "--- Running training session 1\n",
      "{'num_units': 16, 'dropout_rate': 0.1, 'optimizer': 'adam'}\n",
      "60000/60000 [==============================] - 2s 35us/sample - loss: 0.7047 - accuracy: 0.7549\n",
      "10000/10000 [==============================] - 0s 22us/sample - loss: 0.5052 - accuracy: 0.8225\n",
      "--- Running training session 2\n",
      "{'num_units': 16, 'dropout_rate': 0.1, 'optimizer': 'sgd'}\n",
      "60000/60000 [==============================] - 2s 30us/sample - loss: 2.0027 - accuracy: 0.3185\n",
      "10000/10000 [==============================] - 0s 30us/sample - loss: 1.7143 - accuracy: 0.4784\n",
      "--- Running training session 3\n",
      "{'num_units': 16, 'dropout_rate': 0.2, 'optimizer': 'adam'}\n",
      "60000/60000 [==============================] - 2s 37us/sample - loss: 0.8149 - accuracy: 0.7221\n",
      "10000/10000 [==============================] - 0s 23us/sample - loss: 0.5138 - accuracy: 0.8219\n",
      "--- Running training session 4\n",
      "{'num_units': 16, 'dropout_rate': 0.2, 'optimizer': 'sgd'}\n",
      "60000/60000 [==============================] - 2s 32us/sample - loss: 1.9388 - accuracy: 0.3004\n",
      "10000/10000 [==============================] - 0s 27us/sample - loss: 1.6063 - accuracy: 0.4994\n",
      "--- Running training session 5\n",
      "{'num_units': 32, 'dropout_rate': 0.1, 'optimizer': 'adam'}\n",
      "60000/60000 [==============================] - 2s 39us/sample - loss: 0.6207 - accuracy: 0.7850\n",
      "10000/10000 [==============================] - 0s 28us/sample - loss: 0.4615 - accuracy: 0.8396\n",
      "--- Running training session 6\n",
      "{'num_units': 32, 'dropout_rate': 0.1, 'optimizer': 'sgd'}\n",
      "60000/60000 [==============================] - 2s 37us/sample - loss: 1.6491 - accuracy: 0.4769\n",
      "10000/10000 [==============================] - 0s 26us/sample - loss: 1.1657 - accuracy: 0.6641\n",
      "--- Running training session 7\n",
      "{'num_units': 32, 'dropout_rate': 0.2, 'optimizer': 'adam'}\n",
      "60000/60000 [==============================] - 2s 35us/sample - loss: 0.6467 - accuracy: 0.7778\n",
      "10000/10000 [==============================] - 0s 25us/sample - loss: 0.4626 - accuracy: 0.8346\n",
      "--- Running training session 8\n",
      "{'num_units': 32, 'dropout_rate': 0.2, 'optimizer': 'sgd'}\n",
      "60000/60000 [==============================] - 2s 35us/sample - loss: 1.7422 - accuracy: 0.4270\n",
      "10000/10000 [==============================] - 0s 23us/sample - loss: 1.3024 - accuracy: 0.6553\n"
     ]
    }
   ],
   "source": [
    "session_num = 0\n",
    "\n",
    "for num_units in num_units_list:\n",
    "    for dropout_rate in dropout_rate_list:\n",
    "        for optimizer in optimizer_list:\n",
    "            hparams = {'num_units': num_units, 'dropout_rate': dropout_rate, 'optimizer': optimizer}\n",
    "            print('--- Running training session %d' % (session_num + 1))\n",
    "            print(hparams)\n",
    "            run_name = \"run-%d\" % session_num\n",
    "            run(\"logs/hparam_tuning/\" + run_name, hparams)\n",
    "            session_num += 1"
   ]
  },
  {
   "cell_type": "code",
   "execution_count": 14,
   "metadata": {},
   "outputs": [
    {
     "name": "stderr",
     "output_type": "stream",
     "text": [
      "UsageError: Line magic function `%tensorboard` not found.\n"
     ]
    }
   ],
   "source": [
    "%tensorboard --logdir logs/hparam_tuning"
   ]
  },
  {
   "cell_type": "code",
   "execution_count": null,
   "metadata": {},
   "outputs": [],
   "source": [
    "# https://www.tensorflow.org/tensorboard/r2/hyperparameter_tuning_with_hparams"
   ]
  },
  {
   "cell_type": "code",
   "execution_count": null,
   "metadata": {},
   "outputs": [],
   "source": [
    "# Простой пример :"
   ]
  },
  {
   "cell_type": "code",
   "execution_count": 26,
   "metadata": {},
   "outputs": [],
   "source": [
    "cifar10 = tf.keras.datasets.cifar10\n",
    "(x_train, y_train),(x_test, y_test) = cifar10.load_data()\n",
    "x_train, x_test = x_train / 255.0, x_test / 255.0"
   ]
  },
  {
   "cell_type": "code",
   "execution_count": 27,
   "metadata": {},
   "outputs": [],
   "source": [
    "model = tf.keras.models.Sequential()\n",
    "model.add(tf.keras.layers.Conv2D(32, (3, 3), padding='same'))\n",
    "model.add(tf.keras.layers.Activation('relu'))\n",
    "model.add(tf.keras.layers.Conv2D(32, (3, 3)))\n",
    "model.add(tf.keras.layers.Activation('relu'))\n",
    "model.add(tf.keras.layers.MaxPooling2D(pool_size=(2, 2)))\n",
    "model.add(tf.keras.layers.Dropout(0.25))\n",
    "\n",
    "model.add(tf.keras.layers.Conv2D(64, (3, 3), padding='same'))\n",
    "model.add(tf.keras.layers.Activation('relu'))\n",
    "model.add(tf.keras.layers.Conv2D(64, (3, 3)))\n",
    "model.add(tf.keras.layers.Activation('relu'))\n",
    "model.add(tf.keras.layers.MaxPooling2D(pool_size=(2, 2)))\n",
    "model.add(tf.keras.layers.Dropout(0.25))\n",
    "\n",
    "model.add(tf.keras.layers.Flatten())\n",
    "model.add(tf.keras.layers.Dense(512))\n",
    "model.add(tf.keras.layers.Activation('relu'))\n",
    "model.add(tf.keras.layers.Dropout(0.5))\n",
    "model.add(tf.keras.layers.Dense(10))\n",
    "model.add(tf.keras.layers.Activation('softmax'))\n",
    "\n",
    "# initiate RMSprop optimizer\n",
    "opt = tf.keras.optimizers.Adam()\n",
    "\n",
    "    # Let's train the model using RMSprop\n",
    "model.compile(loss='sparse_categorical_crossentropy',\n",
    "                  optimizer=opt,\n",
    "                  metrics=['accuracy'])"
   ]
  },
  {
   "cell_type": "code",
   "execution_count": 28,
   "metadata": {},
   "outputs": [
    {
     "name": "stdout",
     "output_type": "stream",
     "text": [
      "Train on 50000 samples, validate on 10000 samples\n",
      "Epoch 1/10\n",
      "50000/50000 [==============================] - 76s 2ms/sample - loss: 1.7222 - accuracy: 0.3709 - val_loss: 1.3374 - val_accuracy: 0.5174\n",
      "Epoch 2/10\n",
      "50000/50000 [==============================] - 76s 2ms/sample - loss: 1.3161 - accuracy: 0.5290 - val_loss: 1.1841 - val_accuracy: 0.5835\n",
      "Epoch 3/10\n",
      "50000/50000 [==============================] - 78s 2ms/sample - loss: 1.1295 - accuracy: 0.5996 - val_loss: 0.9750 - val_accuracy: 0.6545\n",
      "Epoch 4/10\n",
      "50000/50000 [==============================] - 78s 2ms/sample - loss: 0.9978 - accuracy: 0.6446 - val_loss: 0.9134 - val_accuracy: 0.6781\n",
      "Epoch 5/10\n",
      "50000/50000 [==============================] - 72s 1ms/sample - loss: 0.9160 - accuracy: 0.6788 - val_loss: 0.8162 - val_accuracy: 0.7169\n",
      "Epoch 6/10\n",
      "50000/50000 [==============================] - 71s 1ms/sample - loss: 0.8423 - accuracy: 0.7044 - val_loss: 0.7937 - val_accuracy: 0.7243\n",
      "Epoch 7/10\n",
      "50000/50000 [==============================] - 689s 14ms/sample - loss: 0.7949 - accuracy: 0.7206 - val_loss: 0.7946 - val_accuracy: 0.7196\n",
      "Epoch 8/10\n",
      "50000/50000 [==============================] - 81s 2ms/sample - loss: 0.7549 - accuracy: 0.7346 - val_loss: 0.7672 - val_accuracy: 0.7376\n",
      "Epoch 9/10\n",
      "50000/50000 [==============================] - 79s 2ms/sample - loss: 0.7080 - accuracy: 0.7499 - val_loss: 0.6902 - val_accuracy: 0.7623\n",
      "Epoch 10/10\n",
      "50000/50000 [==============================] - 79s 2ms/sample - loss: 0.6711 - accuracy: 0.7650 - val_loss: 0.7160 - val_accuracy: 0.7520\n"
     ]
    },
    {
     "data": {
      "text/plain": [
       "<tensorflow.python.keras.callbacks.History at 0x16d09ee48>"
      ]
     },
     "execution_count": 28,
     "metadata": {},
     "output_type": "execute_result"
    }
   ],
   "source": [
    "model.fit(x_train,y_train,epochs=10,batch_size=256,validation_data=(x_test,y_test))"
   ]
  },
  {
   "cell_type": "code",
   "execution_count": null,
   "metadata": {},
   "outputs": [],
   "source": []
  }
 ],
 "metadata": {
  "kernelspec": {
   "display_name": "Python 3",
   "language": "python",
   "name": "python3"
  },
  "language_info": {
   "codemirror_mode": {
    "name": "ipython",
    "version": 3
   },
   "file_extension": ".py",
   "mimetype": "text/x-python",
   "name": "python",
   "nbconvert_exporter": "python",
   "pygments_lexer": "ipython3",
   "version": "3.6.4"
  }
 },
 "nbformat": 4,
 "nbformat_minor": 2
}
